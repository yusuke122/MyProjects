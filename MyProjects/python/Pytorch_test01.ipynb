import torch
from torchvision import datasets,transports

import torch as nn
import torch.nn.functional as F

import torch.optim as optim
import mulplotlib.pyplot as plt